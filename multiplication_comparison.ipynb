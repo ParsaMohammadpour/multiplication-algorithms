{
  "cells": [
    {
      "cell_type": "markdown",
      "metadata": {
        "id": "view-in-github",
        "colab_type": "text"
      },
      "source": [
        "<a href=\"https://colab.research.google.com/github/ParsaMohammadpour/multiplication-algorithms/blob/main/multiplication_comparison.ipynb\" target=\"_parent\"><img src=\"https://colab.research.google.com/assets/colab-badge.svg\" alt=\"Open In Colab\"/></a>"
      ]
    },
    {
      "cell_type": "markdown",
      "id": "26100431-e81a-47ea-9eb9-2796624f367d",
      "metadata": {
        "id": "26100431-e81a-47ea-9eb9-2796624f367d"
      },
      "source": [
        "# comparison of three multiplication algorithm"
      ]
    },
    {
      "cell_type": "markdown",
      "id": "6eb2339b-a9fc-4ac8-9591-dd7b3417a40f",
      "metadata": {
        "id": "6eb2339b-a9fc-4ac8-9591-dd7b3417a40f"
      },
      "source": [
        "#### importing librraies"
      ]
    },
    {
      "cell_type": "code",
      "execution_count": null,
      "id": "f7147c37-5a89-410a-b5a1-4fb00184a759",
      "metadata": {
        "id": "f7147c37-5a89-410a-b5a1-4fb00184a759"
      },
      "outputs": [],
      "source": [
        "import numpy as np\n",
        "import pandas as pd\n",
        "from random import randint\n",
        "import time\n",
        "import matplotlib.pyplot as plt\n",
        "import math\n",
        "import timeit"
      ]
    },
    {
      "cell_type": "markdown",
      "id": "54a9a35c-ccae-45c3-a64a-734c358c80db",
      "metadata": {
        "id": "54a9a35c-ccae-45c3-a64a-734c358c80db"
      },
      "source": [
        "### implementing a class for comparing different multiplication algorithms"
      ]
    },
    {
      "cell_type": "markdown",
      "id": "c19ee99f-6231-4153-8618-7a2070c196a2",
      "metadata": {
        "id": "c19ee99f-6231-4153-8618-7a2070c196a2"
      },
      "source": [
        "here we gives this class multiplication functions which they get two input integers and return integers.\n",
        "we also can give this class our own inputs or give it a repetition number in which it does multiplication\n",
        "with each function more than once and in the report we get that number which is increased.(for small numbers\n",
        "in which we gets zero for time)"
      ]
    },
    {
      "cell_type": "code",
      "execution_count": null,
      "id": "138dbbb8-824e-4304-b68c-9ec5c2f8222d",
      "metadata": {
        "id": "138dbbb8-824e-4304-b68c-9ec5c2f8222d"
      },
      "outputs": [],
      "source": [
        "class Comparator():\n",
        "    def __init__(self, func_list: list[callable([[int, int], int])], input_list:[list[int]]=None, repetition: int=1):\n",
        "        self.func_list = func_list\n",
        "        if input_list != None:\n",
        "            self.check_input_list(input_list)\n",
        "            self.input_list = input_list\n",
        "        else:\n",
        "            self.input_list = self.generate_random_inputs()\n",
        "        self.df = self.generate_df(self.func_list)\n",
        "        self.repetition = repetition if repetition > 0 else 1\n",
        "\n",
        "    def check_input_list(self, input_list:list[list[int]]) -> None:\n",
        "        input_len = 2 # number of integers that function lists gets\n",
        "        for i in input_list:\n",
        "            if len(i) != 2:\n",
        "                raise \"input list must contains list of 2 integers for function inputs\"\n",
        "\n",
        "    def generate_random_inputs(self, max_digit_number:int=8) -> list[list[int]]:\n",
        "        res = []\n",
        "        for i in range(max_digit_number):\n",
        "            min_interval = (10 ** i) - 1 # randint doesn't include the end interval\n",
        "            max_interval = 10 ** (i + 1)\n",
        "            res.append([randint(min_interval, max_interval) for i in range(2)])\n",
        "        return res\n",
        "\n",
        "    def generate_df(self, func_list:list[callable([[int, int], int])]) -> pd.DataFrame:\n",
        "        func_names = []\n",
        "        for func in func_list:\n",
        "            func_names.append(func.__name__)\n",
        "        df = pd.DataFrame(columns=[*func_names, 'description'])\n",
        "        return df\n",
        "\n",
        "    # private method for calling each function with inputs\n",
        "    def __call_func(self, func: callable([[int, int], int]), inputs:list[int]) -> float:\n",
        "        start = time.time_ns()\n",
        "        for i in range(self.repetition):\n",
        "            func(*inputs)\n",
        "        end = time.time_ns()\n",
        "        return (end - start) / 3\n",
        "\n",
        "    def simple_bar_plot(self):\n",
        "        ax = self.df.plot.bar(rot=0)\n",
        "        ax.set_xlabel('input index(smaller index are smaller numbers)')\n",
        "        ax.set_ylabel('time(ms)')\n",
        "        plt.plot()\n",
        "\n",
        "    def comparison_subplot(self):\n",
        "        axes = self.df.plot.bar(rot=0, subplots=True)\n",
        "        axes[1].legend(loc=2)\n",
        "        plt.plot()\n",
        "\n",
        "    def compare(self, draw_plot: bool=True) -> pd.DataFrame:\n",
        "        for func_input in self.input_list:\n",
        "            call_results = []\n",
        "            for func in self.func_list:\n",
        "                call_results.append(self.__call_func(func, func_input))\n",
        "            self.df.loc[len(self.df)] = [*call_results, f'{func_input[0]} * {func_input[1]}']\n",
        "        if draw_plot:\n",
        "            self.simple_bar_plot()\n",
        "            self.comparison_subplot()\n",
        "        return self.df"
      ]
    },
    {
      "cell_type": "markdown",
      "id": "f5456b06-b2fd-4c31-a3d4-833f7dc8e6a3",
      "metadata": {
        "id": "f5456b06-b2fd-4c31-a3d4-833f7dc8e6a3"
      },
      "source": [
        "#### implementing some functions used for multiplication algorithms"
      ]
    },
    {
      "cell_type": "code",
      "execution_count": null,
      "id": "77b4aa71-bb04-4779-8204-c9d60d218950",
      "metadata": {
        "id": "77b4aa71-bb04-4779-8204-c9d60d218950"
      },
      "outputs": [],
      "source": [
        "def get_digit_list(a:int, upper_bound=0) -> list[int]:\n",
        "    res = []\n",
        "    while a > 0:\n",
        "        res.append(a % 10)\n",
        "        a = a // 10\n",
        "    while len(res) < upper_bound:\n",
        "        res.append(0)\n",
        "    return res\n",
        "\n",
        "def get_number_from_list(a:list[int]) -> int:\n",
        "    res = 0\n",
        "    for i in range(len(a)):\n",
        "        res += a[i] * (10 ** i)\n",
        "    return res\n",
        "\n",
        "# return higher_half, lower_half\n",
        "def get_halves(a: list[int]) -> list[int]:\n",
        "    half_index = math.ceil(len(a) / 2)\n",
        "    lower = a[:half_index]\n",
        "    higher = a[half_index:]\n",
        "    return get_number_from_list(higher), get_number_from_list(lower)"
      ]
    },
    {
      "cell_type": "markdown",
      "id": "5b28e52d-32ee-488a-950c-e4d93ea7201a",
      "metadata": {
        "id": "5b28e52d-32ee-488a-950c-e4d93ea7201a"
      },
      "source": [
        "## repeated addition algorithm:"
      ]
    },
    {
      "cell_type": "markdown",
      "id": "88adb5d5-587b-46b8-bfea-a9e1f8f1a507",
      "metadata": {
        "id": "88adb5d5-587b-46b8-bfea-a9e1f8f1a507"
      },
      "source": [
        "In here we add one number to itself for i = 1, 2, 3, ..., n times"
      ]
    },
    {
      "cell_type": "code",
      "execution_count": null,
      "id": "e045f11d-f8a4-4d37-aaee-5d342549e839",
      "metadata": {
        "id": "e045f11d-f8a4-4d37-aaee-5d342549e839"
      },
      "outputs": [],
      "source": [
        "def mul_repeated_addition(a: int, b: int) -> int:\n",
        "    res = 0\n",
        "    for i in range(b):\n",
        "        res += a\n",
        "    return res"
      ]
    },
    {
      "cell_type": "markdown",
      "id": "94974714-9876-41c4-a4cd-4ff60a3c5f7e",
      "metadata": {
        "id": "94974714-9876-41c4-a4cd-4ff60a3c5f7e"
      },
      "source": [
        "## grade school algorithm:"
      ]
    },
    {
      "cell_type": "markdown",
      "id": "63b053ce-d764-43d9-b26d-183218574f39",
      "metadata": {
        "id": "63b053ce-d764-43d9-b26d-183218574f39"
      },
      "source": [
        "Here we generate a list from both numbers. These list contains each number digit as an integers.\n",
        "Then we iterate over these two lists and calculate summation of each digit multiplication multiple\n",
        "10 power index of that number."
      ]
    },
    {
      "cell_type": "code",
      "execution_count": null,
      "id": "b58cc7e3-6dce-4601-9093-8d2094e029d6",
      "metadata": {
        "id": "b58cc7e3-6dce-4601-9093-8d2094e029d6"
      },
      "outputs": [],
      "source": [
        "def mul_grade_school(x: int, y: int) -> int:\n",
        "    x_digits = get_digit_list(x)\n",
        "    y_digits = get_digit_list(y)\n",
        "\n",
        "    res = 0\n",
        "    for x_index in range(len(x_digits)):\n",
        "        for y_index in range(len(y_digits)):\n",
        "            power = x_index + y_index\n",
        "            res += x_digits[x_index] * y_digits[y_index] * (10 ** power)\n",
        "    return res"
      ]
    },
    {
      "cell_type": "markdown",
      "id": "23fb642c-0cda-4ba0-9e07-49b7be952b17",
      "metadata": {
        "id": "23fb642c-0cda-4ba0-9e07-49b7be952b17"
      },
      "source": [
        "## karatsuba algorithm"
      ]
    },
    {
      "cell_type": "markdown",
      "id": "020c9fa3-48bb-4bc7-8a68-f8a48e9522c1",
      "metadata": {
        "id": "020c9fa3-48bb-4bc7-8a68-f8a48e9522c1"
      },
      "source": [
        "This is a divide and divide and conquer algorithm which is very good for large numbers.This algorithm checks if the both numbers have less than 4 digits, it simply multiple them and returns the result. If they have more digit, it divide them by two section and recursively calls itself, and then calculate the result with the formula that is written in the pdf file."
      ]
    },
    {
      "cell_type": "code",
      "execution_count": null,
      "id": "20073b3e-302e-459b-ac2a-3301fb36a41f",
      "metadata": {
        "id": "20073b3e-302e-459b-ac2a-3301fb36a41f"
      },
      "outputs": [],
      "source": [
        " def mul_karatsuba(x: int, y: int) -> int:\n",
        "     x, y = max(x, y), min(x, y)\n",
        "     x_digits = get_digit_list(x)\n",
        "     y_digits = get_digit_list(y, len(x_digits))\n",
        "\n",
        "     n = max(len(x_digits), len(y_digits))\n",
        "     if n <= 4:\n",
        "         return x * y\n",
        "\n",
        "     m = math.ceil(n / 2)\n",
        "     x_high, x_low = get_halves(x_digits)\n",
        "     x_halves_sum = x_low + x_high\n",
        "     y_high, y_low = get_halves(y_digits)\n",
        "     y_halves_sum = y_low + y_high\n",
        "\n",
        "     A = mul_karatsuba(x_high, y_high)\n",
        "     B = mul_karatsuba(x_halves_sum, y_halves_sum)\n",
        "     C = mul_karatsuba(x_low, y_low)\n",
        "\n",
        "     return ((10 ** (2*m)) - (10 ** m)) * A + (10 ** m) * B + (1 - (10 **m)) * C"
      ]
    },
    {
      "cell_type": "markdown",
      "id": "95daf4a5-5c96-4b64-b0a1-4a570ab10b7d",
      "metadata": {
        "id": "95daf4a5-5c96-4b64-b0a1-4a570ab10b7d"
      },
      "source": [
        "#### comparing all three algorithms"
      ]
    },
    {
      "cell_type": "code",
      "execution_count": null,
      "id": "88268150-2275-47aa-b235-6d066d0b1d62",
      "metadata": {
        "id": "88268150-2275-47aa-b235-6d066d0b1d62",
        "outputId": "d5ee2745-114d-479b-e298-7df61fd0f596"
      },
      "outputs": [
        {
          "data": {
            "text/html": [
              "<div>\n",
              "<style scoped>\n",
              "    .dataframe tbody tr th:only-of-type {\n",
              "        vertical-align: middle;\n",
              "    }\n",
              "\n",
              "    .dataframe tbody tr th {\n",
              "        vertical-align: top;\n",
              "    }\n",
              "\n",
              "    .dataframe thead th {\n",
              "        text-align: right;\n",
              "    }\n",
              "</style>\n",
              "<table border=\"1\" class=\"dataframe\">\n",
              "  <thead>\n",
              "    <tr style=\"text-align: right;\">\n",
              "      <th></th>\n",
              "      <th>mul_repeated_addition</th>\n",
              "      <th>mul_grade_school</th>\n",
              "      <th>mul_karatsuba</th>\n",
              "      <th>description</th>\n",
              "    </tr>\n",
              "  </thead>\n",
              "  <tbody>\n",
              "    <tr>\n",
              "      <th>0</th>\n",
              "      <td>0.000000e+00</td>\n",
              "      <td>0.0</td>\n",
              "      <td>0.0</td>\n",
              "      <td>6 * 3</td>\n",
              "    </tr>\n",
              "    <tr>\n",
              "      <th>1</th>\n",
              "      <td>0.000000e+00</td>\n",
              "      <td>0.0</td>\n",
              "      <td>0.0</td>\n",
              "      <td>64 * 74</td>\n",
              "    </tr>\n",
              "    <tr>\n",
              "      <th>2</th>\n",
              "      <td>0.000000e+00</td>\n",
              "      <td>0.0</td>\n",
              "      <td>0.0</td>\n",
              "      <td>921 * 152</td>\n",
              "    </tr>\n",
              "    <tr>\n",
              "      <th>3</th>\n",
              "      <td>0.000000e+00</td>\n",
              "      <td>0.0</td>\n",
              "      <td>0.0</td>\n",
              "      <td>1799 * 1761</td>\n",
              "    </tr>\n",
              "    <tr>\n",
              "      <th>4</th>\n",
              "      <td>0.000000e+00</td>\n",
              "      <td>0.0</td>\n",
              "      <td>0.0</td>\n",
              "      <td>62578 * 16687</td>\n",
              "    </tr>\n",
              "    <tr>\n",
              "      <th>5</th>\n",
              "      <td>1.946230e+07</td>\n",
              "      <td>0.0</td>\n",
              "      <td>0.0</td>\n",
              "      <td>819718 * 994514</td>\n",
              "    </tr>\n",
              "    <tr>\n",
              "      <th>6</th>\n",
              "      <td>1.021234e+08</td>\n",
              "      <td>0.0</td>\n",
              "      <td>0.0</td>\n",
              "      <td>1592497 * 5588060</td>\n",
              "    </tr>\n",
              "    <tr>\n",
              "      <th>7</th>\n",
              "      <td>1.084877e+09</td>\n",
              "      <td>0.0</td>\n",
              "      <td>0.0</td>\n",
              "      <td>99778504 * 64692558</td>\n",
              "    </tr>\n",
              "  </tbody>\n",
              "</table>\n",
              "</div>"
            ],
            "text/plain": [
              "   mul_repeated_addition  mul_grade_school  mul_karatsuba          description\n",
              "0           0.000000e+00               0.0            0.0                6 * 3\n",
              "1           0.000000e+00               0.0            0.0              64 * 74\n",
              "2           0.000000e+00               0.0            0.0            921 * 152\n",
              "3           0.000000e+00               0.0            0.0          1799 * 1761\n",
              "4           0.000000e+00               0.0            0.0        62578 * 16687\n",
              "5           1.946230e+07               0.0            0.0      819718 * 994514\n",
              "6           1.021234e+08               0.0            0.0    1592497 * 5588060\n",
              "7           1.084877e+09               0.0            0.0  99778504 * 64692558"
            ]
          },
          "execution_count": 7,
          "metadata": {},
          "output_type": "execute_result"
        },
        {
          "data": {
            "image/png": "[encoded data removed]",
            "text/plain": [
              "<Figure size 640x480 with 1 Axes>"
            ]
          },
          "metadata": {},
          "output_type": "display_data"
        },
        {
          "data": {
            "image/png": "[encoded data removed]",
            "text/plain": [
              "<Figure size 640x480 with 3 Axes>"
            ]
          },
          "metadata": {},
          "output_type": "display_data"
        }
      ],
      "source": [
        "comp = Comparator([mul_repeated_addition, mul_grade_school, mul_karatsuba])\n",
        "comp.compare()"
      ]
    },
    {
      "cell_type": "markdown",
      "id": "91a601fb-dd86-4dd0-a4e5-1437887c9f00",
      "metadata": {
        "id": "91a601fb-dd86-4dd0-a4e5-1437887c9f00"
      },
      "source": [
        "## karatsuba VS grade school"
      ]
    },
    {
      "cell_type": "code",
      "execution_count": null,
      "id": "c3abb50e-4d05-43ca-8efa-4a6d7a5fe541",
      "metadata": {
        "id": "c3abb50e-4d05-43ca-8efa-4a6d7a5fe541",
        "outputId": "92769827-7ee0-48ad-c804-147456226914"
      },
      "outputs": [
        {
          "data": {
            "text/html": [
              "<div>\n",
              "<style scoped>\n",
              "    .dataframe tbody tr th:only-of-type {\n",
              "        vertical-align: middle;\n",
              "    }\n",
              "\n",
              "    .dataframe tbody tr th {\n",
              "        vertical-align: top;\n",
              "    }\n",
              "\n",
              "    .dataframe thead th {\n",
              "        text-align: right;\n",
              "    }\n",
              "</style>\n",
              "<table border=\"1\" class=\"dataframe\">\n",
              "  <thead>\n",
              "    <tr style=\"text-align: right;\">\n",
              "      <th></th>\n",
              "      <th>mul_grade_school</th>\n",
              "      <th>mul_karatsuba</th>\n",
              "      <th>description</th>\n",
              "    </tr>\n",
              "  </thead>\n",
              "  <tbody>\n",
              "    <tr>\n",
              "      <th>0</th>\n",
              "      <td>3.040000e+04</td>\n",
              "      <td>0.000000e+00</td>\n",
              "      <td>34996356 * 34566</td>\n",
              "    </tr>\n",
              "    <tr>\n",
              "      <th>1</th>\n",
              "      <td>3.181333e+05</td>\n",
              "      <td>0.000000e+00</td>\n",
              "      <td>34908534596356 * 349085344566</td>\n",
              "    </tr>\n",
              "    <tr>\n",
              "      <th>2</th>\n",
              "      <td>0.000000e+00</td>\n",
              "      <td>0.000000e+00</td>\n",
              "      <td>349085345963456474456 * 34908534456756474456</td>\n",
              "    </tr>\n",
              "    <tr>\n",
              "      <th>3</th>\n",
              "      <td>2.050333e+05</td>\n",
              "      <td>0.000000e+00</td>\n",
              "      <td>3490853459634546575675647456756474456 * 367564...</td>\n",
              "    </tr>\n",
              "    <tr>\n",
              "      <th>4</th>\n",
              "      <td>6.133000e+05</td>\n",
              "      <td>3.872000e+05</td>\n",
              "      <td>3490853459634546575675647456756474456745677456...</td>\n",
              "    </tr>\n",
              "    <tr>\n",
              "      <th>5</th>\n",
              "      <td>6.856333e+05</td>\n",
              "      <td>3.335667e+05</td>\n",
              "      <td>3490853459634546575675647456756474456745675467...</td>\n",
              "    </tr>\n",
              "    <tr>\n",
              "      <th>6</th>\n",
              "      <td>9.999333e+05</td>\n",
              "      <td>3.352667e+05</td>\n",
              "      <td>3490853459634546575675647456756474456745675467...</td>\n",
              "    </tr>\n",
              "    <tr>\n",
              "      <th>7</th>\n",
              "      <td>1.333767e+06</td>\n",
              "      <td>7.242000e+05</td>\n",
              "      <td>3490853459634546575675647456756474456745675467...</td>\n",
              "    </tr>\n",
              "    <tr>\n",
              "      <th>8</th>\n",
              "      <td>1.353333e+06</td>\n",
              "      <td>6.670333e+05</td>\n",
              "      <td>3490853459634546575675647456756474456745675467...</td>\n",
              "    </tr>\n",
              "    <tr>\n",
              "      <th>9</th>\n",
              "      <td>1.665833e+06</td>\n",
              "      <td>6.674000e+05</td>\n",
              "      <td>3490853459634546575675647456756474456745675467...</td>\n",
              "    </tr>\n",
              "    <tr>\n",
              "      <th>10</th>\n",
              "      <td>2.573767e+06</td>\n",
              "      <td>1.000667e+06</td>\n",
              "      <td>3490853459634546575675647456756474456745675467...</td>\n",
              "    </tr>\n",
              "    <tr>\n",
              "      <th>11</th>\n",
              "      <td>9.018233e+06</td>\n",
              "      <td>1.562567e+06</td>\n",
              "      <td>3490853459634546575675647456756474456745675467...</td>\n",
              "    </tr>\n",
              "  </tbody>\n",
              "</table>\n",
              "</div>"
            ],
            "text/plain": [
              "    mul_grade_school  mul_karatsuba  \\\n",
              "0       3.040000e+04   0.000000e+00   \n",
              "1       3.181333e+05   0.000000e+00   \n",
              "2       0.000000e+00   0.000000e+00   \n",
              "3       2.050333e+05   0.000000e+00   \n",
              "4       6.133000e+05   3.872000e+05   \n",
              "5       6.856333e+05   3.335667e+05   \n",
              "6       9.999333e+05   3.352667e+05   \n",
              "7       1.333767e+06   7.242000e+05   \n",
              "8       1.353333e+06   6.670333e+05   \n",
              "9       1.665833e+06   6.674000e+05   \n",
              "10      2.573767e+06   1.000667e+06   \n",
              "11      9.018233e+06   1.562567e+06   \n",
              "\n",
              "                                          description  \n",
              "0                                    34996356 * 34566  \n",
              "1                       34908534596356 * 349085344566  \n",
              "2        349085345963456474456 * 34908534456756474456  \n",
              "3   3490853459634546575675647456756474456 * 367564...  \n",
              "4   3490853459634546575675647456756474456745677456...  \n",
              "5   3490853459634546575675647456756474456745675467...  \n",
              "6   3490853459634546575675647456756474456745675467...  \n",
              "7   3490853459634546575675647456756474456745675467...  \n",
              "8   3490853459634546575675647456756474456745675467...  \n",
              "9   3490853459634546575675647456756474456745675467...  \n",
              "10  3490853459634546575675647456756474456745675467...  \n",
              "11  3490853459634546575675647456756474456745675467...  "
            ]
          },
          "execution_count": 9,
          "metadata": {},
          "output_type": "execute_result"
        },
        {
          "data": {
            "image/png": "[encoded data removed]",
            "text/plain": [
              "<Figure size 640x480 with 1 Axes>"
            ]
          },
          "metadata": {},
          "output_type": "display_data"
        },
        {
          "data": {
            "image/png": "[encoded data removed]",
            "text/plain": [
              "<Figure size 640x480 with 2 Axes>"
            ]
          },
          "metadata": {},
          "output_type": "display_data"
        }
      ],
      "source": [
        "data = [[34996356, 34566],\n",
        "        [34908534596356, 349085344566],\n",
        "        [349085345963456474456, 34908534456756474456],\n",
        "        [3490853459634546575675647456756474456, 367564745675647456723476],\n",
        "        [3490853459634546575675647456756474456745677456745, 3490853459634546575675647456756474456745677456745],\n",
        "        [34908534596345465756756474567564744567456754674567455423476, 34908534596345465756756474567564744567456754674567455423476],\n",
        "        [3490853459634546575675647456756474456745675467456745674567456743476, 3490853459634546575675647456756474456745675467456745674567456743476],\n",
        "        [3490853459634546575675647456756474456745675467456745674567456745674523476, 3490853459634546575675647456756474456745675467456745674567456745674523476],\n",
        "        [34908534596345465756756474567564744567456754674567456745674567456745755467656, 34908534596345465756756474567564744567456754674567456745674567456745755467656],\n",
        "        [34908534596345465756756474567564744567456754674567456745674567456745755467656723476, 34908534596345465756756474567564744567456754674567456745674567456745755467656723476],\n",
        "        [349085345963454657567564745675647445674567546745674567456745674567457554676567234765675467567456745, 349085345963454657567564745675647445674567546745674567456745674567457554676567234765675467567456745],\n",
        "        [349085345963454657567564745675647445674567546745674567456745674567457554676567234763490853459634546575675647456756474456745675467456745674567456745674575545, 34908534596344674567456745674567456745755467656723476349085345963454657567564745675647445674567546745674567456745674567457554676567234765675467567456745]]\n",
        "\n",
        "comp = Comparator([mul_grade_school, mul_karatsuba], data, repetition=1)\n",
        "comp.compare()"
      ]
    },
    {
      "cell_type": "code",
      "execution_count": null,
      "id": "0f8984d6-027c-4468-8305-e11d212aa4b2",
      "metadata": {
        "id": "0f8984d6-027c-4468-8305-e11d212aa4b2"
      },
      "outputs": [],
      "source": []
    }
  ],
  "metadata": {
    "kernelspec": {
      "display_name": "Python 3 (ipykernel)",
      "language": "python",
      "name": "python3"
    },
    "language_info": {
      "codemirror_mode": {
        "name": "ipython",
        "version": 3
      },
      "file_extension": ".py",
      "mimetype": "text/x-python",
      "name": "python",
      "nbconvert_exporter": "python",
      "pygments_lexer": "ipython3",
      "version": "3.11.9"
    },
    "colab": {
      "provenance": [],
      "include_colab_link": true
    }
  },
  "nbformat": 4,
  "nbformat_minor": 5
}